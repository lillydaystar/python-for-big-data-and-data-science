{
  "nbformat": 4,
  "nbformat_minor": 0,
  "metadata": {
    "colab": {
      "provenance": []
    },
    "kernelspec": {
      "name": "python3",
      "display_name": "Python 3"
    },
    "language_info": {
      "name": "python"
    }
  },
  "cells": [
    {
      "cell_type": "markdown",
      "source": [
        "# I. Змінні та памʼять."
      ],
      "metadata": {
        "id": "p9wwt0LZzNvn"
      }
    },
    {
      "cell_type": "markdown",
      "source": [
        "1. Створити змінні, що посилаються на два цілих числа, що однакові за значенням, де значення належить проміжку від -5 до 256. Перевірте, чи будуть ці змінні рівні тільки за значенням або ж ще будуть посилатися на один і той самий обʼєкт в памʼяті? Наведіть код та дайте текстову відповідь нижче."
      ],
      "metadata": {
        "id": "HTJrrm95xSV9"
      }
    },
    {
      "cell_type": "code",
      "execution_count": 59,
      "metadata": {
        "id": "TATni2vzayjG",
        "colab": {
          "base_uri": "https://localhost:8080/",
          "height": 0
        },
        "outputId": "525d3c0a-846b-4bff-b6bb-8ff23218c1a4"
      },
      "outputs": [
        {
          "output_type": "stream",
          "name": "stdout",
          "text": [
            "True\n",
            "True\n",
            "True\n"
          ]
        }
      ],
      "source": [
        "a = 11\n",
        "b = 11\n",
        "\n",
        "print(a == b) # порівнюємо значення\n",
        "\n",
        "print(a is b) # порівняння ідентифікаторів (посилання на об'єкти) в пам'яті\n",
        "\n",
        "print(id(a) == id(b)) # порівняння ідентифікаторів напряму"
      ]
    },
    {
      "cell_type": "markdown",
      "source": [
        "\n",
        "***Такі числа будуть посилатися на один і той самий об'єкт в пам'яті, адже  цілі числа в діапазоні від -5 до 256 зберігаються у пам'яті як константи, тому створені змінні представляють однаковий об'єкт у пам'яті***"
      ],
      "metadata": {
        "id": "zfRG_o3WbRdg"
      }
    },
    {
      "cell_type": "markdown",
      "source": [
        "2. За допомогою якої функції можна перевірити належність змінної до вказаного типу даних (напр. чи змінна True посилається на значення булевого та цілочисленого типу)?"
      ],
      "metadata": {
        "id": "ISORzt6M3vAt"
      }
    },
    {
      "cell_type": "code",
      "source": [
        "c = True\n",
        "print(isinstance(c, bool))\n",
        "print(isinstance(c, int))\n",
        "\n",
        "d = 4.5\n",
        "print(isinstance(d,float))\n",
        "print(isinstance(d, int))"
      ],
      "metadata": {
        "id": "9vL9CFaMbfyo",
        "colab": {
          "base_uri": "https://localhost:8080/",
          "height": 0
        },
        "outputId": "bd3ce8f6-ad3c-49dc-e11c-d4f075ec2af4"
      },
      "execution_count": 63,
      "outputs": [
        {
          "output_type": "stream",
          "name": "stdout",
          "text": [
            "True\n",
            "True\n",
            "True\n",
            "False\n"
          ]
        }
      ]
    },
    {
      "cell_type": "markdown",
      "source": [
        "# II. Цілі числа та числа з рухомою комою"
      ],
      "metadata": {
        "id": "tRxugKAxwYLw"
      }
    },
    {
      "cell_type": "markdown",
      "source": [
        "3. Створити дві змінні, що посилаються на будь-які ціле число та число з рухомою комою та продемонструвати такі арифметичні операції: додавання, віднімання, ділення, множення, ділення без залишку, ділення по модулю, приведення до ступеню. Всі результати операцій вивести на екран."
      ],
      "metadata": {
        "id": "NLHkgd5Gybc8"
      }
    },
    {
      "cell_type": "code",
      "source": [
        "x = 8\n",
        "y = 2.2\n",
        "\n",
        "sum = x + y\n",
        "print(\"Додавання: \", sum)\n",
        "sub = x - y\n",
        "print(\"Віднімання: \", sub)\n",
        "div = x / y\n",
        "print(\"Ділення: \", div)\n",
        "mult = x * y\n",
        "print(\"Множення: \", mult)\n",
        "div2 = x // y\n",
        "print(\"Ділення без залишку: \", div2)\n",
        "mod = x % y\n",
        "print(\"Ділення за модулем: \", mod)\n",
        "pow = x ** y\n",
        "print(\"Піднесення до степеня: \", pow)\n"
      ],
      "metadata": {
        "id": "nb8u_3pjb2cA",
        "colab": {
          "base_uri": "https://localhost:8080/",
          "height": 0
        },
        "outputId": "7f14630f-e454-4826-a92d-942201b8670a"
      },
      "execution_count": 77,
      "outputs": [
        {
          "output_type": "stream",
          "name": "stdout",
          "text": [
            "Додавання:  10.2\n",
            "Віднімання:  5.8\n",
            "Ділення:  3.6363636363636362\n",
            "Множення:  17.6\n",
            "Ділення без залишку:  3.0\n",
            "Ділення за модулем:  1.3999999999999995\n",
            "Піднесення до степеня:  97.00586025666551\n"
          ]
        }
      ]
    },
    {
      "cell_type": "markdown",
      "source": [
        "4. Використовуючи змінні з вправи 3, продемонструйте механізм явного перетворення типів, де числа з рухомою комою перетворюються на цілі числа. Також визначте змінну, що посилається на значення булевого типу і спробуйте явно привести її до цілого числа."
      ],
      "metadata": {
        "id": "1kBClKgPzZnC"
      }
    },
    {
      "cell_type": "code",
      "source": [
        "print(\"До перетворення: \", y, \"|\", type(y))\n",
        "\n",
        "y = int(y)\n",
        "print(\"Після: \", y, \"|\", type(y))\n",
        "\n",
        "print(\"-----\")\n",
        "z = False\n",
        "print(\"До перетворення: \", z, \"|\", type(z))\n",
        "\n",
        "z = int(z)\n",
        "print(\"Після: \", z, \"|\", type(z))"
      ],
      "metadata": {
        "id": "TbqJbkeUcKsD",
        "colab": {
          "base_uri": "https://localhost:8080/",
          "height": 0
        },
        "outputId": "befcd403-8b05-4137-955d-43b26ae3bc08"
      },
      "execution_count": 78,
      "outputs": [
        {
          "output_type": "stream",
          "name": "stdout",
          "text": [
            "До перетворення:  2.2 | <class 'float'>\n",
            "Після:  2 | <class 'int'>\n",
            "-----\n",
            "До перетворення:  False | <class 'bool'>\n",
            "Після:  0 | <class 'int'>\n"
          ]
        }
      ]
    },
    {
      "cell_type": "markdown",
      "source": [
        "# IІІ. Рядки (String)."
      ],
      "metadata": {
        "id": "EVJ7AflwxrZi"
      }
    },
    {
      "cell_type": "markdown",
      "source": [
        "5. Створити пустий рядок двома різними способами."
      ],
      "metadata": {
        "id": "_s5ECzz9zE61"
      }
    },
    {
      "cell_type": "code",
      "source": [
        "str1 = ''\n",
        "str2 = str()\n",
        "\n",
        "print(str1)\n",
        "print(str2)"
      ],
      "metadata": {
        "id": "fkZJHu9Scvc-",
        "colab": {
          "base_uri": "https://localhost:8080/",
          "height": 0
        },
        "outputId": "65872cd9-dfc6-4070-ec7e-5f7114278128"
      },
      "execution_count": 80,
      "outputs": [
        {
          "output_type": "stream",
          "name": "stdout",
          "text": [
            "\n",
            "\n"
          ]
        }
      ]
    },
    {
      "cell_type": "markdown",
      "source": [
        "6. Створити рядок з апострофом. Зробити його сирим. Вивести обидва рядка на екран."
      ],
      "metadata": {
        "id": "4Bdn9J3MzLf_"
      }
    },
    {
      "cell_type": "code",
      "source": [
        "string = 'м\\'яч'\n",
        "str_raw = r'м\\'яч'\n",
        "\n",
        "print(\"Рядок з апострофом: \", string)\n",
        "print(\"Сирий рядок з апострофом: \", str_raw)"
      ],
      "metadata": {
        "id": "ivji_hsmc0GH",
        "colab": {
          "base_uri": "https://localhost:8080/",
          "height": 0
        },
        "outputId": "588f0f4e-44b3-4cf0-c5dd-ccd888cd89b6"
      },
      "execution_count": 82,
      "outputs": [
        {
          "output_type": "stream",
          "name": "stdout",
          "text": [
            "Рядок з апострофом:  м'яч\n",
            "Сирий рядок з апострофом:  м\\'яч\n"
          ]
        }
      ]
    },
    {
      "cell_type": "markdown",
      "source": [
        "7. Створити змінну, що буде посилатися на Ваше прізвище латинкою. Створити форматований рядок, який буде мати вигляд \"My surname is ______\", де на місці нижніх підкреслень буде Ваше прізвище зі змінної."
      ],
      "metadata": {
        "id": "bg_d8wM4z8dS"
      }
    },
    {
      "cell_type": "code",
      "source": [
        "surname = \"Parashchak\"\n",
        "\n",
        "formatted = f\"My surname is {surname}\"\n",
        "\n",
        "print(formatted)"
      ],
      "metadata": {
        "id": "kuxFgpWndACq",
        "colab": {
          "base_uri": "https://localhost:8080/",
          "height": 0
        },
        "outputId": "0dc0314f-914c-48ef-b854-499d47a1796e"
      },
      "execution_count": 83,
      "outputs": [
        {
          "output_type": "stream",
          "name": "stdout",
          "text": [
            "My surname is Parashchak\n"
          ]
        }
      ]
    },
    {
      "cell_type": "markdown",
      "source": [
        "8. Маючи рядок \"My dog is crazy.\" перетворити його на список [\"my\", \"dog\", \"is\", \"crazy\"]"
      ],
      "metadata": {
        "id": "1Nc6RqvQ0hxU"
      }
    },
    {
      "cell_type": "code",
      "source": [
        "import re\n",
        "\n",
        "crazy = \"My dog is crazy.\"\n",
        "\n",
        "# З крапкою\n",
        "crazy_list1 = crazy.split()\n",
        "print(crazy_list1)\n",
        "\n",
        "# Без крапки\n",
        "sep = r'[.\\s]'\n",
        "crazy_list2 = re.split(sep, crazy)[:-1]\n",
        "\n",
        "print(crazy_list2)"
      ],
      "metadata": {
        "id": "w1Ya4RqedUhw",
        "colab": {
          "base_uri": "https://localhost:8080/",
          "height": 0
        },
        "outputId": "51911cca-f162-464d-958a-63175f3b8495"
      },
      "execution_count": 84,
      "outputs": [
        {
          "output_type": "stream",
          "name": "stdout",
          "text": [
            "['My', 'dog', 'is', 'crazy.']\n",
            "['My', 'dog', 'is', 'crazy']\n"
          ]
        }
      ]
    },
    {
      "cell_type": "markdown",
      "source": [
        "# IV. Робота зі списками."
      ],
      "metadata": {
        "id": "GYVqN9uP1D4n"
      }
    },
    {
      "cell_type": "markdown",
      "source": [
        "9. Створити список двома різними за синтаксисом способами. За допомогою вбудованої функції обчисліть довжину одного з них."
      ],
      "metadata": {
        "id": "7-DeDunw2sO-"
      }
    },
    {
      "cell_type": "code",
      "source": [
        "arr1 = [3, 41, 73, 1]\n",
        "arr2 = list((3, 41, 73, 1))\n",
        "\n",
        "print(arr1, arr2)\n",
        "print(len(arr1)) # довжина"
      ],
      "metadata": {
        "id": "zxg06Uuxdyoh",
        "colab": {
          "base_uri": "https://localhost:8080/",
          "height": 0
        },
        "outputId": "ef79514a-6394-46e0-a249-a2e8247b6aec"
      },
      "execution_count": 87,
      "outputs": [
        {
          "output_type": "stream",
          "name": "stdout",
          "text": [
            "[3, 41, 73, 1] [3, 41, 73, 1]\n",
            "4\n"
          ]
        }
      ]
    },
    {
      "cell_type": "markdown",
      "source": [
        "10. Створіть два списка та за допомогою спеціального методу додайте другий з них в якості останнього елемента першого."
      ],
      "metadata": {
        "id": "8vmGUTjL22gI"
      }
    },
    {
      "cell_type": "code",
      "source": [
        "list1 = [4,7,2]\n",
        "list2 = [5,3,1]\n",
        "\n",
        "# додавання елементів другого списку до першого\n",
        "list1.extend(list2)\n",
        "print(list1)\n",
        "\n",
        "list1 = list1[:-3]\n",
        "# додавання другого списку як одного елемента\n",
        "list1.extend([list2])\n",
        "print(list1)"
      ],
      "metadata": {
        "id": "uHtjWYw7d7hm",
        "colab": {
          "base_uri": "https://localhost:8080/"
        },
        "outputId": "16c3a751-963c-4e3f-b173-4d3d5f8efd6c"
      },
      "execution_count": 89,
      "outputs": [
        {
          "output_type": "stream",
          "name": "stdout",
          "text": [
            "[4, 7, 2, 5, 3, 1]\n",
            "[4, 7, 2, [5, 3, 1]]\n"
          ]
        }
      ]
    },
    {
      "cell_type": "markdown",
      "source": [
        "11. Створіть список, де елементами цього списку також є списки. Отримай перший елемент з останнього рядка та виведи значення на екран."
      ],
      "metadata": {
        "id": "JC3BkD-67_--"
      }
    },
    {
      "cell_type": "code",
      "source": [
        "l = [[1,2,3], [4,5,6,7], [8,9]]\n",
        "el = l[-1][0]\n",
        "print(el)"
      ],
      "metadata": {
        "id": "Kz2jZHsGeLlz",
        "colab": {
          "base_uri": "https://localhost:8080/",
          "height": 0
        },
        "outputId": "2d07f82c-e436-4d16-d156-5c9b14f2ca59"
      },
      "execution_count": 32,
      "outputs": [
        {
          "output_type": "stream",
          "name": "stdout",
          "text": [
            "8\n"
          ]
        }
      ]
    },
    {
      "cell_type": "markdown",
      "source": [
        "12. Створіть список з десяти елементів різного типу. Отримайте всі елементи, окрім двох перших та двох останніх та збережіть їх в новій змінній."
      ],
      "metadata": {
        "id": "JA47PKTv8zFK"
      }
    },
    {
      "cell_type": "code",
      "source": [
        "elems = [3, '3', \"three\", True, 3.0, 3, False, \"hello\", 'a', 50]\n",
        "print(elems)\n",
        "new_elems = elems[2:-2]\n",
        "print(new_elems)"
      ],
      "metadata": {
        "id": "_rHdUR-ueP4-",
        "colab": {
          "base_uri": "https://localhost:8080/",
          "height": 0
        },
        "outputId": "91548630-752f-4140-9426-a5f2f09f084e"
      },
      "execution_count": 37,
      "outputs": [
        {
          "output_type": "stream",
          "name": "stdout",
          "text": [
            "[3, '3', 'three', True, 3.0, 3, False, 'hello', 'a', 50]\n",
            "['three', True, 3.0, 3, False, 'hello']\n"
          ]
        }
      ]
    },
    {
      "cell_type": "markdown",
      "source": [
        "# V. Робота з кортежами."
      ],
      "metadata": {
        "id": "pCjR1dJb1Qbi"
      }
    },
    {
      "cell_type": "markdown",
      "source": [
        "14. Створити кортеж з один елементом."
      ],
      "metadata": {
        "id": "fAZCxAX06R_k"
      }
    },
    {
      "cell_type": "code",
      "source": [
        "t = (1,)\n",
        "\n",
        "print(t, type(t))"
      ],
      "metadata": {
        "id": "H7d82WkQev3e",
        "colab": {
          "base_uri": "https://localhost:8080/"
        },
        "outputId": "e76cc041-7363-493c-f398-5268411e7ab7"
      },
      "execution_count": 102,
      "outputs": [
        {
          "output_type": "stream",
          "name": "stdout",
          "text": [
            "(1,) <class 'tuple'>\n"
          ]
        }
      ]
    },
    {
      "cell_type": "markdown",
      "source": [
        "15. Порівняйте список та кортеж. Назвіть схожості та відмінності, випадки використання."
      ],
      "metadata": {
        "id": "8LCtYcmI6w1M"
      }
    },
    {
      "cell_type": "markdown",
      "source": [
        "***Схожість:***\n",
        "*Списки та кортежі можна ітерувати, визначати елементи за індексом та зберігати в них дані різних типів.*\n",
        "***Відмінність:***\n",
        "*Списки — це змінний тип даних, кортежі — ні. До кортежу не можна додати елемент чи забрати його після створення. І, звісно, відрізняється синтаксис.*\n",
        "\n",
        "***Списки використовують, коли потрібно додавати/змінювати/видаляти елементи.***\n",
        "***Кортежі використовують, коли дані потрібно захистити від змін або ж просто вони мають бути сталі. У деяких випадках кортежі потрібні на заміну спискам як незмінний тип даних.***"
      ],
      "metadata": {
        "id": "fUsN1Hnue0C6"
      }
    },
    {
      "cell_type": "markdown",
      "source": [
        "16. Створіть кортеж з 11ти елементів чисел з рухомою комою та отримайте кожен парний за індексом елемент в зворотньому порядку. Наприклад, маючи (1.2, 2.3, 3.3, 4.3, 5.3, 6.3, 7.3, 8.3, 9.3, 0.3), отримати (0.3, 8.3, 6.3, 4.3, 2.3). Результат збережіть в нову змінну та виведіть на екран."
      ],
      "metadata": {
        "id": "m0xrwFijAmDD"
      }
    },
    {
      "cell_type": "code",
      "source": [
        "my_tuple = (4.2, 2.1, 3.5, 8.3, 5.5, 3.0, 6.3, 22.66, 74.4, 11.34, 0.4)\n",
        "print(my_tuple)\n",
        "new_tuple = my_tuple[-2::-2] # у контексті кортежу з непарною кількістю елементів починаємо з передостаннього і робимо крок \"через один\"\n",
        "print(new_tuple)"
      ],
      "metadata": {
        "id": "p-5DAH6XfAGA",
        "colab": {
          "base_uri": "https://localhost:8080/"
        },
        "outputId": "c781e685-b7cc-4664-cd2c-ccd8d0e6511a"
      },
      "execution_count": 99,
      "outputs": [
        {
          "output_type": "stream",
          "name": "stdout",
          "text": [
            "(4.2, 2.1, 3.5, 8.3, 5.5, 3.0, 6.3, 22.66, 74.4, 11.34, 0.4)\n",
            "(11.34, 22.66, 3.0, 8.3, 2.1)\n"
          ]
        }
      ]
    },
    {
      "cell_type": "markdown",
      "source": [
        "# VI. Множини (Set)."
      ],
      "metadata": {
        "id": "rW_I9dt3x6cW"
      }
    },
    {
      "cell_type": "markdown",
      "source": [
        "17. Створити множину без елементів. Після цого за допомогою методу додайте кілька різних елементів до множини. Чи множини є змінним типом даних?"
      ],
      "metadata": {
        "id": "zNjRLHLw1Bgg"
      }
    },
    {
      "cell_type": "code",
      "source": [
        "s1 = set()\n",
        "print(s1)\n",
        "\n",
        "s1.add(3)\n",
        "s1.add(\"three\")\n",
        "s1.add(True)\n",
        "\n",
        "print(s1)"
      ],
      "metadata": {
        "id": "KOv7zc2Kfo4N",
        "colab": {
          "base_uri": "https://localhost:8080/"
        },
        "outputId": "e3dd03d0-6de5-4ccb-ceef-93842b8d28ec"
      },
      "execution_count": 101,
      "outputs": [
        {
          "output_type": "stream",
          "name": "stdout",
          "text": [
            "set()\n",
            "{True, 3, 'three'}\n"
          ]
        }
      ]
    },
    {
      "cell_type": "markdown",
      "source": [
        "***Множини, списки і словники є змінними типами даних на відміну від чисел, стрічок, кортежів і тд. Множини можна змінювати, додавати нові елементи, видаляти існуючі та виконувати інші операції над ними.***"
      ],
      "metadata": {
        "id": "vxS6dVYiftZQ"
      }
    },
    {
      "cell_type": "markdown",
      "source": [
        "18. Створити множину, маючи список my_list = [1, 1, 2, 67, 67, 8, 9]. Пояснити, чому \"зникли\" деякі елементи."
      ],
      "metadata": {
        "id": "gHpT0Zw_1HEF"
      }
    },
    {
      "cell_type": "code",
      "source": [
        "my_list = [1, 1, 2, 67, 67, 8, 9]\n",
        "\n",
        "my_set = set(my_list)\n",
        "\n",
        "print(my_set)"
      ],
      "metadata": {
        "id": "qCN4uvJ_fxmu",
        "colab": {
          "base_uri": "https://localhost:8080/"
        },
        "outputId": "ca61bd4d-d45a-46bd-8f07-938efa9a9cc0"
      },
      "execution_count": 100,
      "outputs": [
        {
          "output_type": "stream",
          "name": "stdout",
          "text": [
            "{1, 2, 67, 8, 9}\n"
          ]
        }
      ]
    },
    {
      "cell_type": "markdown",
      "source": [
        "***Сет (множина) - це така структура, яка зберігає тільки унікальні елементи. Тобто дублікати не додаються до множин, вони фільтруються. У цьому випадку у нас повторюються елементи 1 та 67.***"
      ],
      "metadata": {
        "id": "tFNc1e20fyny"
      }
    },
    {
      "cell_type": "markdown",
      "source": [
        "19. Створіть дві множини. Продемонстуйте над ними операції: обʼєднання, різниці, пересічі та симетричної різниці. Використовуйте методи, що не змінюють множини, а створюють нові."
      ],
      "metadata": {
        "id": "SRMkGizS1UwY"
      }
    },
    {
      "cell_type": "code",
      "source": [
        "set1 = {1,2,3,4,5}\n",
        "set2 = {2,4,6}\n",
        "\n",
        "union = set1.union(set2)\n",
        "print(\"Об'єднання: \", union)\n",
        "\n",
        "dif = set1.difference(set2)\n",
        "print(\"Різниця: \", dif)\n",
        "\n",
        "inters= set1.intersection(set2)\n",
        "print(\"Перетин: \", inters)\n",
        "\n",
        "symm = set1.symmetric_difference(set2)\n",
        "print(\"Симетрична різниця: \", symm)"
      ],
      "metadata": {
        "id": "h0T-VuDnf3Ri",
        "colab": {
          "base_uri": "https://localhost:8080/",
          "height": 0
        },
        "outputId": "a7aaed1d-7a07-4479-87d0-9cd86f015aa8"
      },
      "execution_count": 54,
      "outputs": [
        {
          "output_type": "stream",
          "name": "stdout",
          "text": [
            "Об'єднання:  {1, 2, 3, 4, 5, 6}\n",
            "Різниця:  {1, 3, 5}\n",
            "Перетин:  {2, 4}\n",
            "Симетрична різниця:  {1, 3, 5, 6}\n"
          ]
        }
      ]
    },
    {
      "cell_type": "markdown",
      "source": [
        "# VII. Словники (Dictionary)."
      ],
      "metadata": {
        "id": "kWc8gkzTx7Ea"
      }
    },
    {
      "cell_type": "markdown",
      "source": [
        "20. Створіть пустий словник. До нього додайте чотири пари елементів такі, щоб їхні ключі були різних типів. Чи може список бути ключем? Чому?"
      ],
      "metadata": {
        "id": "i5FLwj-B2ybQ"
      }
    },
    {
      "cell_type": "code",
      "source": [
        "dict0 = {}\n",
        "\n",
        "dict0[1] = \"hello\"\n",
        "dict0[\"name\"] = \"Liliia\"\n",
        "# dict0[[3,4]] = 3  - error\n",
        "dict0[(3,4)] = 3\n",
        "dict0[0.5] = True\n",
        "\n",
        "print(dict0)"
      ],
      "metadata": {
        "id": "hxgv3BzrgLAV",
        "colab": {
          "base_uri": "https://localhost:8080/",
          "height": 0
        },
        "outputId": "27b17877-ff64-4198-9a89-d349a6c45b6a"
      },
      "execution_count": 56,
      "outputs": [
        {
          "output_type": "stream",
          "name": "stdout",
          "text": [
            "{1: 'hello', 'name': 'Liliia', (3, 4): 3, 0.5: True}\n"
          ]
        }
      ]
    },
    {
      "cell_type": "markdown",
      "source": [
        "***Список не може бути ключем, тому що є змінним типом даних, а ключі мають бути незмінні.***"
      ],
      "metadata": {
        "id": "zwa7UVN-gR3m"
      }
    },
    {
      "cell_type": "markdown",
      "source": [
        "21. Створіть словник, де значенням в одній з пар теж буде словник, який теж має вкладений словник. Виведіть на екран значення, що міститься в словнику, що знаходиться на найнижчому рівні ієрархії вкладеності (найбільш внутрішній)."
      ],
      "metadata": {
        "id": "WM_pMlJsgoNf"
      }
    },
    {
      "cell_type": "code",
      "source": [
        "dict1 = {\n",
        "    \"name\": \"dictionary\",\n",
        "    \"details\": {\n",
        "        \"discipline\": \"Python for Big Data and Data Science\",\n",
        "        \"marks\": {\n",
        "            1: 99,\n",
        "            2: 100,\n",
        "            3: 99,\n",
        "            4: 99\n",
        "        },\n",
        "        \"year\": 2024\n",
        "    },\n",
        "    \"student\": (\"Liliia\", \"Parashchak\")\n",
        "}\n",
        "\n",
        "res = dict1[\"details\"][\"marks\"][2]\n",
        "\n",
        "print(res)"
      ],
      "metadata": {
        "id": "60dlP7IHhAy4",
        "colab": {
          "base_uri": "https://localhost:8080/"
        },
        "outputId": "2cf41a9f-cd01-4909-978e-bbd2e78e03ea"
      },
      "execution_count": 103,
      "outputs": [
        {
          "output_type": "stream",
          "name": "stdout",
          "text": [
            "100\n"
          ]
        }
      ]
    },
    {
      "cell_type": "markdown",
      "source": [
        "# Вітаю! Ви велика(ий) молодець, що впоралась(вся). Похваліть себе та побалуйте чимось приємним. Я Вами пишаюся."
      ],
      "metadata": {
        "id": "xOZP0hkx6cCr"
      }
    }
  ]
}