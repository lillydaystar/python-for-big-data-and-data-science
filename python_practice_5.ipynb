{
  "nbformat": 4,
  "nbformat_minor": 0,
  "metadata": {
    "colab": {
      "provenance": []
    },
    "kernelspec": {
      "name": "python3",
      "display_name": "Python 3"
    },
    "language_info": {
      "name": "python"
    }
  },
  "cells": [
    {
      "cell_type": "markdown",
      "source": [
        "# I. OOP"
      ],
      "metadata": {
        "id": "5qV_sehzFCTp"
      }
    },
    {
      "cell_type": "markdown",
      "source": [
        "1. (6б). Створіть клас Animal, додайте три атрибути, один з яких має значення за замовчуванням та два методи на свій розсуд."
      ],
      "metadata": {
        "id": "tx_U_hOALyfg"
      }
    },
    {
      "cell_type": "code",
      "source": [
        "class Animal:\n",
        "  def __init__(self, name, sound, age=0):\n",
        "    self.name = name\n",
        "    self.sound = sound\n",
        "    self.age = age\n",
        "\n",
        "  def make_sound(self):\n",
        "    print(f\"{self.name} says {self.sound}\");\n",
        "\n",
        "  def grow_up(self):\n",
        "    self.age += 1\n",
        "    print(f\"{self.name} is now {self.age} y.o.\")"
      ],
      "metadata": {
        "id": "-Vf895KaL88N"
      },
      "execution_count": 1,
      "outputs": []
    },
    {
      "cell_type": "markdown",
      "source": [
        "2. (2б). Створіть два обʼєкти цього класу, де один з обʼєктів створюється із дефолтним значенням атрибуту. На одному обʼєкті отримайте значення його атрибуту, а на іншому викличте один з його методів."
      ],
      "metadata": {
        "id": "X_UlOMB0L93w"
      }
    },
    {
      "cell_type": "code",
      "source": [
        "dog = Animal(\"dog\", \"bark\", 2)\n",
        "cat = Animal(\"cat\", \"meow\")\n",
        "\n",
        "print(\"Cat age: \", cat.age)\n",
        "dog.grow_up()"
      ],
      "metadata": {
        "id": "7gBu0ESOMCpG",
        "colab": {
          "base_uri": "https://localhost:8080/"
        },
        "outputId": "c3e383e7-d062-49fc-b9f9-1b56d35cf442"
      },
      "execution_count": 2,
      "outputs": [
        {
          "output_type": "stream",
          "name": "stdout",
          "text": [
            "Cat age:  0\n",
            "dog is now 3 y.o.\n"
          ]
        }
      ]
    },
    {
      "cell_type": "markdown",
      "source": [
        "3. (5б). Створіть клас, де атрибути мають різні рівні доступу. Спробуйте отримати їхні значення та опишіть результати."
      ],
      "metadata": {
        "id": "HoqSCZt1MHn5"
      }
    },
    {
      "cell_type": "code",
      "source": [
        "class Me:\n",
        "  def __init__(self, name, age, email):\n",
        "    self.name = name\n",
        "    self._age = age\n",
        "    self.__email = email\n",
        "\n",
        "me = Me(\"Liliia\", 19, \"liliia@example.com\")\n",
        "print(me.name)    # ми можемо мати доступ до public атрибутів\n",
        "print(me._age)    # ми можемо отримати доступ до protected атрибуту, але так краще не робити :(\n",
        "print(me.__email) # на цьому кроці виникне помилка, бо ми не можемо ззовні отримати доступ до private атрибутів"
      ],
      "metadata": {
        "id": "r9b3vJxBMSPV",
        "colab": {
          "base_uri": "https://localhost:8080/",
          "height": 211
        },
        "outputId": "47d1d79b-03dc-4f28-9f15-493fc1976ec2"
      },
      "execution_count": 3,
      "outputs": [
        {
          "output_type": "stream",
          "name": "stdout",
          "text": [
            "Liliia\n",
            "19\n"
          ]
        },
        {
          "output_type": "error",
          "ename": "AttributeError",
          "evalue": "'Me' object has no attribute '__email'",
          "traceback": [
            "\u001b[0;31m---------------------------------------------------------------------------\u001b[0m",
            "\u001b[0;31mAttributeError\u001b[0m                            Traceback (most recent call last)",
            "\u001b[0;32m<ipython-input-3-e2ec2a07df68>\u001b[0m in \u001b[0;36m<cell line: 13>\u001b[0;34m()\u001b[0m\n\u001b[1;32m     11\u001b[0m \u001b[0mprint\u001b[0m\u001b[0;34m(\u001b[0m\u001b[0mme\u001b[0m\u001b[0;34m.\u001b[0m\u001b[0mname\u001b[0m\u001b[0;34m)\u001b[0m    \u001b[0;31m# ми можемо мати доступ до public атрибутів\u001b[0m\u001b[0;34m\u001b[0m\u001b[0;34m\u001b[0m\u001b[0m\n\u001b[1;32m     12\u001b[0m \u001b[0mprint\u001b[0m\u001b[0;34m(\u001b[0m\u001b[0mme\u001b[0m\u001b[0;34m.\u001b[0m\u001b[0m_age\u001b[0m\u001b[0;34m)\u001b[0m    \u001b[0;31m# ми можемо отримати доступ до protected атрибуту, але так краще не робити :(\u001b[0m\u001b[0;34m\u001b[0m\u001b[0;34m\u001b[0m\u001b[0m\n\u001b[0;32m---> 13\u001b[0;31m \u001b[0mprint\u001b[0m\u001b[0;34m(\u001b[0m\u001b[0mme\u001b[0m\u001b[0;34m.\u001b[0m\u001b[0m__email\u001b[0m\u001b[0;34m)\u001b[0m \u001b[0;31m# на цьому кроці виникне помилка, бо ми не можемо ззовні отримати доступ до private атрибутів\u001b[0m\u001b[0;34m\u001b[0m\u001b[0;34m\u001b[0m\u001b[0m\n\u001b[0m",
            "\u001b[0;31mAttributeError\u001b[0m: 'Me' object has no attribute '__email'"
          ]
        }
      ]
    },
    {
      "cell_type": "markdown",
      "source": [
        "4. (7б). Як ви розумієте термін self? Для чого використовується метод __init __?"
      ],
      "metadata": {
        "id": "5op2m2vgMSkZ"
      }
    },
    {
      "cell_type": "markdown",
      "source": [
        "self - це екземпляр класу. За допомогою цього терміну можна отримати доступ до атрибутів та методів цього екземпляра. self - це перший параметр методів класу, а при виклику він передається автоматично.\n",
        "\n",
        "\\_\\_init\\_\\_ - це конструктор класу. Він викликається автоматичо при створенні об'єкта і завдяки йому ініціалізуються атрибути."
      ],
      "metadata": {
        "id": "DyiPqNRvMasx"
      }
    },
    {
      "cell_type": "markdown",
      "source": [
        "5. (9б). Створіть клас Фігура без атрибутів, з методом get_area для отримання площі фігури, що повертає 0 та __add __, який приймає self та other в якості аргументів, а повертає суму площин фігур self та other."
      ],
      "metadata": {
        "id": "-6X8EGfjMd2y"
      }
    },
    {
      "cell_type": "code",
      "source": [
        "class Figure:\n",
        "  def get_area(self):\n",
        "    return 0\n",
        "\n",
        "  def __add__(self, other):\n",
        "    return self.get_area() + other.get_area()\n",
        "\n",
        "figure1 = Figure()\n",
        "figure2 = Figure()\n",
        "\n",
        "print(figure1.get_area())\n",
        "print(figure1 + figure2)"
      ],
      "metadata": {
        "id": "4rvO_wYUMaEr",
        "colab": {
          "base_uri": "https://localhost:8080/"
        },
        "outputId": "28d671c3-25dc-46ea-c791-6c4eb9381855"
      },
      "execution_count": 4,
      "outputs": [
        {
          "output_type": "stream",
          "name": "stdout",
          "text": [
            "0\n",
            "0\n"
          ]
        }
      ]
    },
    {
      "cell_type": "markdown",
      "source": [
        "6. (11б). Створіть 2 дочірніх класи від Фігури: Трикутник та Коло, які мають атрибути, необхідні для розрахунку площин. Визначте метод get_area в кожному з них так, щоби вони розраховували площу в залежності від формули для кожного типу фігури. Створіть обʼєкт класу Трикутник та обʼєкт класу Коло. Виконайте операцію суми за допомогою оператора + між ними."
      ],
      "metadata": {
        "id": "SFcKnnv5Mo_z"
      }
    },
    {
      "cell_type": "code",
      "source": [
        "import math\n",
        "\n",
        "class Triangle(Figure):\n",
        "  def __init__(self, side, height):\n",
        "    self.side = side\n",
        "    self.height = height\n",
        "\n",
        "  def get_area(self):\n",
        "    return (self.side * self.height) / 2\n",
        "\n",
        "\n",
        "class Circle(Figure):\n",
        "  def __init__(self, radius):\n",
        "    self.radius = radius\n",
        "\n",
        "  def get_area(self):\n",
        "    return math.pi * self.radius**2\n",
        "\n",
        "\n",
        "triangle = Triangle(3, 2)\n",
        "circle = Circle(2)\n",
        "print(\"Triangle area:\", triangle.get_area())\n",
        "print(\"Circle area:\", circle.get_area())\n",
        "print(\"Sum:\", triangle + circle)"
      ],
      "metadata": {
        "id": "H3GVNr69Muf3",
        "colab": {
          "base_uri": "https://localhost:8080/"
        },
        "outputId": "8319bddc-b731-42bd-82d0-995198f8349b"
      },
      "execution_count": 5,
      "outputs": [
        {
          "output_type": "stream",
          "name": "stdout",
          "text": [
            "Triangle area: 3.0\n",
            "Circle area: 12.566370614359172\n",
            "Sum: 15.566370614359172\n"
          ]
        }
      ]
    },
    {
      "cell_type": "markdown",
      "source": [
        "7. (3б). Продемонструйте різницю між isinstance та issubclass."
      ],
      "metadata": {
        "id": "HCvR206YMvLK"
      }
    },
    {
      "cell_type": "code",
      "source": [
        "print(\"triangle є екземпляром класу Triangle:\", isinstance(triangle, Triangle))\n",
        "print(\"triangle є екземпляром класу Figure:\", isinstance(triangle, Figure))\n",
        "print(\"triangle не є екземпляром класу Circle:\", isinstance(triangle, Circle))\n",
        "print(\"triangle є екземпляром object:\", isinstance(triangle, object))\n",
        "\n",
        "print(\"Triangle є підкласом Figure:\", issubclass(Triangle, Figure))\n",
        "print(\"Figure не є підкласом Triangle:\", issubclass(Figure, Triangle))\n",
        "print(\"Triangle не є підкласом Circle:\", issubclass(Triangle, Circle))\n",
        "print(\"Triangle є підкласом object:\", issubclass(Triangle, object))"
      ],
      "metadata": {
        "id": "L_V1bBvDM0GN",
        "colab": {
          "base_uri": "https://localhost:8080/"
        },
        "outputId": "d84c0f0f-9e2c-4993-8145-0947b4849b2a"
      },
      "execution_count": 6,
      "outputs": [
        {
          "output_type": "stream",
          "name": "stdout",
          "text": [
            "triangle є екземпляром класу Triangle: True\n",
            "triangle є екземпляром класу Figure: True\n",
            "triangle не є екземпляром класу Circle: False\n",
            "triangle є екземпляром object: True\n",
            "Triangle є підкласом Figure: True\n",
            "Figure не є підкласом Triangle: False\n",
            "Triangle не є підкласом Circle: False\n",
            "Triangle є підкласом object: True\n"
          ]
        }
      ]
    },
    {
      "cell_type": "markdown",
      "source": [
        "8. (13б). Створіть клас BankAccount з приватними атрибутами balance та account_number. Реалізуйте методи поповнення та зняття коштів, забезпечивши належну інкапсуляцію. Підказка: використовуйте декоратори property та setter."
      ],
      "metadata": {
        "id": "jjsaBZ-iM0Qq"
      }
    },
    {
      "cell_type": "code",
      "source": [
        "class BankAccount:\n",
        "  def __init__(self, balance, account_number):\n",
        "    self.__balance = balance\n",
        "    self.__account_number = account_number\n",
        "\n",
        "  @property\n",
        "  def balance(self):\n",
        "    return self.__balance\n",
        "\n",
        "  @balance.setter\n",
        "  def balance(self, new_balance):\n",
        "    if new_balance > 0:\n",
        "      self.__balance = new_balance\n",
        "    else:\n",
        "      raise AttributeError(\"Недостатньо коштів на рахунку.\")\n",
        "\n",
        "  def add_funds(self, amount):\n",
        "    if amount > 0:\n",
        "      new_balance = self.balance + amount\n",
        "      self.balance = new_balance\n",
        "      print(f\"Рахунок було успішно поповнено. Залишок: {self.balance} UAH\")\n",
        "    else:\n",
        "      print(\"Неможливо поповнити рахунок на від'ємну суму\")\n",
        "\n",
        "  def take_funds(self, amount):\n",
        "    if amount > 0:\n",
        "      new_balance = self.balance - amount\n",
        "\n",
        "      try:\n",
        "        self.balance = new_balance\n",
        "      except Exception as error:\n",
        "        print(error)\n",
        "      else:\n",
        "        print(f\"Кошти були успішно зняті. Залишок: {self.balance} UAH\")\n",
        "    else:\n",
        "      print(\"Неможливо зняти з рахуноку від'ємну суму\")\n",
        "\n",
        "my_account = BankAccount(100, \"123321\")\n",
        "my_account.add_funds(10)\n",
        "my_account.add_funds(-4)\n",
        "\n",
        "my_account.take_funds(50)\n",
        "my_account.take_funds(61)"
      ],
      "metadata": {
        "id": "xCvZ7lh8M7YA",
        "colab": {
          "base_uri": "https://localhost:8080/"
        },
        "outputId": "77130533-6245-4cc7-f904-7933549484d1"
      },
      "execution_count": 17,
      "outputs": [
        {
          "output_type": "stream",
          "name": "stdout",
          "text": [
            "Рахунок було успішно поповнено. Залишок: 110 UAH\n",
            "Неможливо поповнити рахунок на від'ємну суму\n",
            "Кошти були успішно зняті. Залишок: 60 UAH\n",
            "Недостатньо коштів на рахунку.\n"
          ]
        }
      ]
    },
    {
      "cell_type": "markdown",
      "source": [
        "9. (11б). Створіть клас Library, який містить список об'єктів типу Book. Реалізуйте методи для додавання книги, видалення книги та відображення списку книг."
      ],
      "metadata": {
        "id": "tIzL2SJTM8ft"
      }
    },
    {
      "cell_type": "code",
      "source": [
        "class Book:\n",
        "    def __init__(self, title, author):\n",
        "        self.title = title\n",
        "        self.author = author\n",
        "\n",
        "    def __str__(self):\n",
        "      return f\"\\\"{self.title}\\\" — {self.author}\"\n",
        "\n",
        "class Library:\n",
        "  def __init__(self, books):\n",
        "    self.books = books\n",
        "\n",
        "  def add_book(self, book):\n",
        "    self.books.append(book)\n",
        "\n",
        "  def remove_book(self, book_title):\n",
        "    for book in self.books:\n",
        "      if book.title == book_title:\n",
        "        self.books.remove(book)\n",
        "        return\n",
        "    print(f\"Book with title \\\"{book_title}\\\" was not found\")\n",
        "\n",
        "  def show_books(self):\n",
        "    for id, book in enumerate(self.books):\n",
        "      print(f\"{id+1}. {book}.\")\n",
        "\n",
        "book1 = Book(\"Harry Potter\", \"J.K. Rowling\")\n",
        "book2 = Book(\"Wiedźmin\", \"Andrzej Sapkowski\")\n",
        "library = Library([book1, book2])\n",
        "library.show_books()\n",
        "library.add_book(Book(\"Hobbit\", \"J.R.R. Tolkien\"))\n",
        "library.remove_book(\"Harry Potter\")\n",
        "library.remove_book(\"Some book\")\n",
        "library.show_books()"
      ],
      "metadata": {
        "id": "HWxfJKLtNAUZ",
        "colab": {
          "base_uri": "https://localhost:8080/"
        },
        "outputId": "f1f7b7f9-7a29-4a31-d452-d2f084ac8e0a"
      },
      "execution_count": 18,
      "outputs": [
        {
          "output_type": "stream",
          "name": "stdout",
          "text": [
            "1. \"Harry Potter\" — J.K. Rowling.\n",
            "2. \"Wiedźmin\" — Andrzej Sapkowski.\n",
            "Book with title \"Some book\" was not found\n",
            "1. \"Wiedźmin\" — Andrzej Sapkowski.\n",
            "2. \"Hobbit\" — J.R.R. Tolkien.\n"
          ]
        }
      ]
    },
    {
      "cell_type": "markdown",
      "source": [
        "10. (13б). Створіть клас Person з атрибутами name та age. Створіть ще один клас Employee з такими атрибутами, як department та salary. Створіть клас Manager, який успадковує обидва класи Person та Employee. Продемонструйте використання множинної спадковості, створивши обʼєкт класу Manager та отримавши mro для цього класу."
      ],
      "metadata": {
        "id": "lmV8pAwwNIqu"
      }
    },
    {
      "cell_type": "code",
      "source": [
        "class Person:\n",
        "  def __init__(self, name, age):\n",
        "    self.name = name\n",
        "    self.age = age\n",
        "\n",
        "  def whats_my_name(self):\n",
        "    print(f\"My name is {self.name}, nice to meet you!\")\n",
        "\n",
        "class Employee:\n",
        "  def __init__(self, department, salary):\n",
        "    self.department = department\n",
        "    self.salary = salary\n",
        "\n",
        "  def my_department(self):\n",
        "    print(f\"I work in {self.department}! I love my job (or maybe not)\")\n",
        "\n",
        "class Manager(Person, Employee):\n",
        "  def __init__(self, name, age, department, salary):\n",
        "    Person.__init__(self, name, age)\n",
        "    Employee.__init__(self, department, salary)\n",
        "\n",
        "manager = Manager(\"John\", 45, \"IT\", 30000)\n",
        "manager.whats_my_name()\n",
        "manager.my_department()\n",
        "print(Manager.mro())"
      ],
      "metadata": {
        "id": "R49grKlWNPeN",
        "colab": {
          "base_uri": "https://localhost:8080/"
        },
        "outputId": "33ace71f-688c-4a67-c3dd-5efc1e832eac"
      },
      "execution_count": 24,
      "outputs": [
        {
          "output_type": "stream",
          "name": "stdout",
          "text": [
            "My name is John, nice to meet you!\n",
            "I work in IT! I love my job (or maybe not)\n",
            "[<class '__main__.Manager'>, <class '__main__.Person'>, <class '__main__.Employee'>, <class 'object'>]\n"
          ]
        }
      ]
    },
    {
      "cell_type": "markdown",
      "source": [
        "# II. Iterator"
      ],
      "metadata": {
        "id": "dIJyUiNBFG8G"
      }
    },
    {
      "cell_type": "markdown",
      "source": [
        "11. (4б). Визначте рядок(str) з 4ма різними за значенням символами. Створіть ітератор на основі цього рядка. Викличте 5 разів функцію next на ітераторі, 4ри перших з них огорніть у ф-цію print()."
      ],
      "metadata": {
        "id": "13vsm0NyKIzL"
      }
    },
    {
      "cell_type": "code",
      "source": [
        "str1 = \"abcd\"\n",
        "\n",
        "str_iter = iter(str1)\n",
        "\n",
        "for x in range(4):\n",
        "  print(next(str_iter))\n",
        "\n",
        "next(str_iter) # помилка, бо ітерація завершилась"
      ],
      "metadata": {
        "id": "81ntabAkKuz-",
        "colab": {
          "base_uri": "https://localhost:8080/",
          "height": 245
        },
        "outputId": "b473a017-4b3e-4421-dc67-2c57535476a2"
      },
      "execution_count": 25,
      "outputs": [
        {
          "output_type": "stream",
          "name": "stdout",
          "text": [
            "a\n",
            "b\n",
            "c\n",
            "d\n"
          ]
        },
        {
          "output_type": "error",
          "ename": "StopIteration",
          "evalue": "",
          "traceback": [
            "\u001b[0;31m---------------------------------------------------------------------------\u001b[0m",
            "\u001b[0;31mStopIteration\u001b[0m                             Traceback (most recent call last)",
            "\u001b[0;32m<ipython-input-25-65cbc39aabf1>\u001b[0m in \u001b[0;36m<cell line: 8>\u001b[0;34m()\u001b[0m\n\u001b[1;32m      6\u001b[0m   \u001b[0mprint\u001b[0m\u001b[0;34m(\u001b[0m\u001b[0mnext\u001b[0m\u001b[0;34m(\u001b[0m\u001b[0mstr_iter\u001b[0m\u001b[0;34m)\u001b[0m\u001b[0;34m)\u001b[0m\u001b[0;34m\u001b[0m\u001b[0;34m\u001b[0m\u001b[0m\n\u001b[1;32m      7\u001b[0m \u001b[0;34m\u001b[0m\u001b[0m\n\u001b[0;32m----> 8\u001b[0;31m \u001b[0mnext\u001b[0m\u001b[0;34m(\u001b[0m\u001b[0mstr_iter\u001b[0m\u001b[0;34m)\u001b[0m \u001b[0;31m# помилка, бо ітерація завершилась\u001b[0m\u001b[0;34m\u001b[0m\u001b[0;34m\u001b[0m\u001b[0m\n\u001b[0m",
            "\u001b[0;31mStopIteration\u001b[0m: "
          ]
        }
      ]
    },
    {
      "cell_type": "markdown",
      "source": [
        "А що якщо викликати цю ж функцію на рядку?"
      ],
      "metadata": {
        "id": "aekWHGXOLRsO"
      }
    },
    {
      "cell_type": "code",
      "source": [
        "next(str1) # рядок - це ітерабельний об'єкт, але не ітератор, тому на ньому не можна викликати next()"
      ],
      "metadata": {
        "id": "mxATGsErLV1i",
        "colab": {
          "base_uri": "https://localhost:8080/",
          "height": 141
        },
        "outputId": "434543ff-6066-41e4-9265-90fcdc0f8e06"
      },
      "execution_count": 26,
      "outputs": [
        {
          "output_type": "error",
          "ename": "TypeError",
          "evalue": "'str' object is not an iterator",
          "traceback": [
            "\u001b[0;31m---------------------------------------------------------------------------\u001b[0m",
            "\u001b[0;31mTypeError\u001b[0m                                 Traceback (most recent call last)",
            "\u001b[0;32m<ipython-input-26-b72e5cef0f1d>\u001b[0m in \u001b[0;36m<cell line: 1>\u001b[0;34m()\u001b[0m\n\u001b[0;32m----> 1\u001b[0;31m \u001b[0mnext\u001b[0m\u001b[0;34m(\u001b[0m\u001b[0mstr1\u001b[0m\u001b[0;34m)\u001b[0m \u001b[0;31m# рядок - це ітерабельний об'єкт, але не ітератор, тому на ньому не можна викликати next()\u001b[0m\u001b[0;34m\u001b[0m\u001b[0;34m\u001b[0m\u001b[0m\n\u001b[0m",
            "\u001b[0;31mTypeError\u001b[0m: 'str' object is not an iterator"
          ]
        }
      ]
    },
    {
      "cell_type": "markdown",
      "source": [
        " 12. (5б). Опишіть своїми словами в одному реченні, як ви розумієте різницю між ітерабельними обʼєктами та ітераторами (можна на прикладі)."
      ],
      "metadata": {
        "id": "XwtMEopwJ4pH"
      }
    },
    {
      "cell_type": "markdown",
      "source": [
        "Ітерабельний об'єкт - це такий об'єкт, елементи якого можна перебрати, з цих об'єктів можна стоврити ітератори, які дозволяють послідовно отримувати кожен наступний елемент за допомогою функції next() та ітерувати об'єкт."
      ],
      "metadata": {
        "id": "-sHrODc3KFn8"
      }
    },
    {
      "cell_type": "markdown",
      "source": [
        "13. (11б). Створіть клас, що має визначений Iterator Protocol та при кожному виклику next повертає літери англійської абетки, поки вони не вичерпаються."
      ],
      "metadata": {
        "id": "E9qJWmNbK8Gl"
      }
    },
    {
      "cell_type": "code",
      "source": [
        "class Alphabet:\n",
        "  def __iter__(self):\n",
        "    self.letter = ord('a')\n",
        "    return self\n",
        "\n",
        "  def __next__(self):\n",
        "    nextl = self.letter\n",
        "    self.letter += 1\n",
        "    if nextl <= ord('z'):\n",
        "      return chr(nextl)\n",
        "    else:\n",
        "      raise StopIteration\n",
        "\n",
        "alf = Alphabet()\n",
        "alf_iter = iter(alf)\n",
        "\n",
        "for letter in alf_iter:\n",
        "  print(letter)\n"
      ],
      "metadata": {
        "id": "cqx-g_RsLo6I",
        "colab": {
          "base_uri": "https://localhost:8080/"
        },
        "outputId": "099022dd-e8a3-47ba-d2c9-d156f172e198"
      },
      "execution_count": 27,
      "outputs": [
        {
          "output_type": "stream",
          "name": "stdout",
          "text": [
            "a\n",
            "b\n",
            "c\n",
            "d\n",
            "e\n",
            "f\n",
            "g\n",
            "h\n",
            "i\n",
            "j\n",
            "k\n",
            "l\n",
            "m\n",
            "n\n",
            "o\n",
            "p\n",
            "q\n",
            "r\n",
            "s\n",
            "t\n",
            "u\n",
            "v\n",
            "w\n",
            "x\n",
            "y\n",
            "z\n"
          ]
        }
      ]
    },
    {
      "cell_type": "markdown",
      "source": [
        "# Вітаю! Ви велика(ий) молодець, що впоралась(вся). Похваліть себе та побалуйте чимось приємним. Я Вами пишаюся."
      ],
      "metadata": {
        "id": "Z3E3S_s1Fv7-"
      }
    }
  ]
}